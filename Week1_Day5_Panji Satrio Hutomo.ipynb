{
 "cells": [
  {
   "cell_type": "code",
   "execution_count": 1,
   "metadata": {},
   "outputs": [
    {
     "name": "stdout",
     "output_type": "stream",
     "text": [
      "Hasil diharapkan :\n",
      "7\n",
      "1\n",
      "6\n"
     ]
    }
   ],
   "source": [
    "stack = []\n",
    "\n",
    "def push(val):\n",
    "    stack.append(val)\n",
    "\n",
    "\n",
    "def pop():\n",
    "    val = stack.pop()\n",
    "    return val\n",
    "\n",
    "push(6)\n",
    "push(1)\n",
    "push(7)\n",
    "\n",
    "print(\"Hasil diharapkan :\")\n",
    "print(pop())\n",
    "print(pop())\n",
    "print(pop())"
   ]
  },
  {
   "cell_type": "code",
   "execution_count": 2,
   "metadata": {},
   "outputs": [
    {
     "name": "stdout",
     "output_type": "stream",
     "text": [
      "Hasil Diharapkan\n",
      "45\n",
      "9\n",
      "8\n",
      "7\n",
      "6\n",
      "5\n",
      "4\n",
      "3\n",
      "2\n",
      "1\n",
      "0\n"
     ]
    }
   ],
   "source": [
    "print(\"Hasil Diharapkan\")\n",
    "class Stack:\n",
    "    def __init__(self):\n",
    "        self.__stackList = []\n",
    "\n",
    "    def push(self, val):\n",
    "        self.__stackList.append(val)\n",
    "\n",
    "    def pop(self):\n",
    "        val = self.__stackList[-1]\n",
    "        del self.__stackList[-1]\n",
    "        return val\n",
    "\n",
    "\n",
    "class AddingStack(Stack):\n",
    "    def __init__(self):\n",
    "        Stack.__init__(self)\n",
    "        self.__sum = 0\n",
    "\n",
    "    def getSum(self):\n",
    "        return self.__sum\n",
    "\n",
    "    def push(self, val):\n",
    "        self.__sum += val\n",
    "        Stack.push(self, val)\n",
    "\n",
    "    def pop(self):\n",
    "        val = Stack.pop(self)\n",
    "        self.__sum -= val\n",
    "        return val\n",
    "\n",
    "\n",
    "stackObject = AddingStack()\n",
    "\n",
    "for i in range(10):\n",
    "    stackObject.push(i)\n",
    "print(stackObject.getSum())\n",
    "\n",
    "for i in range(10):\n",
    "    print(stackObject.pop())"
   ]
  },
  {
   "cell_type": "code",
   "execution_count": 9,
   "metadata": {},
   "outputs": [
    {
     "name": "stdout",
     "output_type": "stream",
     "text": [
      "Hasil diharapkan\n",
      "{'awal': 6, 'baru': 8, 'ikut': 0, 'ireal': 3.5, 'integer': 4, 'z': 5}\n",
      "{'awal': 6, 'baru': 8, 'ikut': 1, 'ireal': 3.5, 'integer': 5, 'z': 5}\n",
      "{'awal': 6, 'baru': 8, 'ikut': 2, 'ireal': 3.5, 'integer': 6, 'z': 5}\n"
     ]
    }
   ],
   "source": [
    "print(\"Hasil diharapkan\")\n",
    "class KelasKita:\n",
    "    pass\n",
    "\n",
    "obj = KelasKita()\n",
    "obj.awal = 6\n",
    "obj.baru = 8\n",
    "obj.ikut = 0\n",
    "obj.ireal = 3.5\n",
    "obj.integer = 4\n",
    "obj.z = 5\n",
    "\n",
    "def AyoSemangat(obj):\n",
    "    for name in obj.__dict__.keys(): #memperoleh key (awal, baru, ikut, ireal, integer)\n",
    "        if name.startswith('i'):\n",
    "            val = getattr(obj, name) #memperoleh nilai attribute\n",
    "            if isinstance(val, int): #untuk melihat apakah object val merupakan int\n",
    "                setattr(obj, name, val + 1)\n",
    "\n",
    "print(obj.__dict__)\n",
    "AyoSemangat(obj)\n",
    "print(obj.__dict__)\n",
    "AyoSemangat(obj)\n",
    "print(obj.__dict__)"
   ]
  },
  {
   "cell_type": "code",
   "execution_count": 27,
   "metadata": {},
   "outputs": [
    {
     "name": "stdout",
     "output_type": "stream",
     "text": [
      "Hasil diharapkan\n",
      "True\tFalse\tFalse\t\n",
      "True\tTrue\tFalse\t\n",
      "True\tTrue\tTrue\t\n"
     ]
    }
   ],
   "source": [
    "print(\"Hasil diharapkan\")\n",
    "class Putra:\n",
    "    pass\n",
    "\n",
    "class Indonesia(Putra):\n",
    "    pass\n",
    "\n",
    "class Negara(Indonesia):\n",
    "    pass\n",
    "\n",
    "\n",
    "for isi1 in [Putra, Indonesia, Negara]:\n",
    "    for isi2 in [Putra, Indonesia, Negara]:\n",
    "        print(issubclass(isi1, isi2), end=\"\\t\") #untuk melihat apakah class isi1 merupakan subclass dari isi2\n",
    "    print()"
   ]
  },
  {
   "cell_type": "code",
   "execution_count": 29,
   "metadata": {},
   "outputs": [
    {
     "name": "stdout",
     "output_type": "stream",
     "text": [
      "Hasil diharapkan\n",
      "555 155 552\n",
      "222 2221 2222\n",
      "333 3331 3332\n"
     ]
    }
   ],
   "source": [
    "print(\"Hasil diharapkan\")\n",
    "class Tingkat1:\n",
    "    vario1 = 555\n",
    "    def __init__(self):\n",
    "        self.nilai1 = 155\n",
    "\n",
    "    def Happy1(self):\n",
    "        return 552\n",
    "\n",
    "\n",
    "class Tingkat2(Tingkat1):\n",
    "    vario2 = 222\n",
    "    def __init__(self):\n",
    "        super().__init__()\n",
    "        self.nilai2 = 2221\n",
    "    \n",
    "    def Happy2(self):\n",
    "        return 2222\n",
    "\n",
    "\n",
    "class Tingkat3(Tingkat2):\n",
    "    vario3 = 333\n",
    "    def __init__(self):\n",
    "        super().__init__()\n",
    "        self.nilai3 = 3331\n",
    "\n",
    "    def Happy3(self):\n",
    "        return 3332\n",
    "\n",
    "\n",
    "obj = Tingkat3()\n",
    "\n",
    "print(obj.vario1, obj.nilai1, obj.Happy1()) #memanggil nilai dari subclass Happy1 menggunakan parent class3\n",
    "print(obj.vario2, obj.nilai2, obj.Happy2()) #memanggil nilai dari subclass Happy2 menggunakan parent class3\n",
    "print(obj.vario3, obj.nilai3, obj.Happy3()) #memanggil nilai dari subclass Happy3 menggunakan parent class3"
   ]
  },
  {
   "cell_type": "code",
   "execution_count": 56,
   "metadata": {},
   "outputs": [
    {
     "name": "stdout",
     "output_type": "stream",
     "text": [
      "Hasil diharapkan\n",
      "Class iter\n",
      "1\n",
      "1\n",
      "2\n",
      "3\n",
      "5\n",
      "8\n",
      "13\n",
      "21\n",
      "34\n",
      "55\n",
      "89\n"
     ]
    }
   ],
   "source": [
    "print(\"Hasil diharapkan\")\n",
    "\n",
    "#Iterator bilangan fibonacci\n",
    "\n",
    "class Fib:\n",
    "    def __init__(self, nn):\n",
    "        self.__n = 11 #menentukan jumlah bilangan fibonacci yang akan dibuat\n",
    "        self.__i = 0 #menentukan nilai awal bilangank ke-0\n",
    "        self.__p1 = self.__p2 = 1\n",
    "\n",
    "    def __iter__(self):\n",
    "        print(\"Fib iter\")\n",
    "        return self\n",
    "\n",
    "    def __next__(self):\n",
    "        self.__i += 1\n",
    "        if self.__i > self.__n:\n",
    "            raise StopIteration\n",
    "        if self.__i in [1, 2]:\n",
    "            return 1 #menjadikan bilangan ke-1 dan ke-2 angkat yang direturn\n",
    "        ret = self.__p1 + self.__p2\n",
    "        self.__p1, self.__p2 = self.__p2, ret\n",
    "        return ret\n",
    "\n",
    "class Class:\n",
    "    def __init__(self, n): #nilai awal iterasi pada class\n",
    "        self.__iter = Fib(n)\n",
    "\n",
    "    def __iter__(self):\n",
    "        print(\"Class iter\")\n",
    "        return self.__iter;\n",
    "\n",
    "object = Class(11)\n",
    "# object = Fib(11)  akan menghasilkan nilai yang serupa\n",
    "\n",
    "for i in object:\n",
    "    print(i)"
   ]
  }
 ],
 "metadata": {
  "kernelspec": {
   "display_name": "Python 3",
   "language": "python",
   "name": "python3"
  },
  "language_info": {
   "codemirror_mode": {
    "name": "ipython",
    "version": 3
   },
   "file_extension": ".py",
   "mimetype": "text/x-python",
   "name": "python",
   "nbconvert_exporter": "python",
   "pygments_lexer": "ipython3",
   "version": "3.7.6"
  }
 },
 "nbformat": 4,
 "nbformat_minor": 4
}
