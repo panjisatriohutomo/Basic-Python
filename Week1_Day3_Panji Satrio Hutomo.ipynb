{
 "cells": [
  {
   "cell_type": "markdown",
   "metadata": {
    "id": "R7P3RIMPrNfL"
   },
   "source": [
    "## TUGAS 3 \n",
    "\n",
    "Penting : \n",
    "\n",
    "1. Teman-teman dapat mengerjakan soal ini secara berdiskusi, tapi tidak dianjurkan untuk copy paste.\n",
    "2. Saat dikirim, notebook sudah dalam keadaan running.\n",
    "3. kerjakan tugas secara lengkap, karena akan dicek dengan baik\n",
    "4. format pengumpulan tugas cek pada grup telegram data science training \n"
   ]
  },
  {
   "cell_type": "markdown",
   "metadata": {
    "id": "i2354C_mmaRl"
   },
   "source": [
    "Soal 1 \n",
    "\n",
    "Lengkapilah code untuk menampilkan perulangan berikut sesuai dengan expected result yang diharapkan !"
   ]
  },
  {
   "cell_type": "code",
   "execution_count": 1,
   "metadata": {
    "colab": {
     "base_uri": "https://localhost:8080/"
    },
    "id": "11r3xwBmnYG5",
    "outputId": "801de795-b501-4866-9e1a-1a4fab4f9cfc"
   },
   "outputs": [
    {
     "name": "stdout",
     "output_type": "stream",
     "text": [
      "expected result\n",
      "s\n",
      "e\n",
      "m\n",
      "a\n",
      "n\n",
      "g\n",
      "k\n",
      "a\n"
     ]
    }
   ],
   "source": [
    "#Jawaban soal 1\n",
    "\n",
    "print('expected result')\n",
    "for i in ('semangka'):\n",
    "    print(i)"
   ]
  },
  {
   "cell_type": "markdown",
   "metadata": {
    "id": "xqO4NQahoqZm"
   },
   "source": [
    "Soal 2 \n",
    "\n",
    "1. lengkapilah codeperulangan untuk menampilkan expected result \n",
    "2. Ketentuan \n",
    "    - setiap ingin menampilkan kelipatan 5 ubah menjadi lima\n",
    "    - setiap kelipatan 7 ubah menjadi tujuh'\n",
    "    - jika bertemu 35 dan 70 ubah menjadi tiga lima dan tujuh puluh \n",
    "    - dan jika bertemu 100 ubah menjadi end "
   ]
  },
  {
   "cell_type": "code",
   "execution_count": 2,
   "metadata": {
    "colab": {
     "base_uri": "https://localhost:8080/"
    },
    "id": "k53vqmISnqzb",
    "outputId": "0aed0bc6-a8bc-4498-a89d-ee7d2e4b5ac1"
   },
   "outputs": [
    {
     "name": "stdout",
     "output_type": "stream",
     "text": [
      "expected result\n",
      "1\n",
      "2\n",
      "3\n",
      "4\n",
      "lima\n",
      "6\n",
      "tujuh\n",
      "8\n",
      "9\n",
      "lima\n",
      "11\n",
      "12\n",
      "13\n",
      "tujuh\n",
      "lima\n",
      "16\n",
      "17\n",
      "18\n",
      "19\n",
      "lima\n",
      "tujuh\n",
      "22\n",
      "23\n",
      "24\n",
      "lima\n",
      "26\n",
      "27\n",
      "tujuh\n",
      "29\n",
      "lima\n",
      "31\n",
      "32\n",
      "33\n",
      "34\n",
      "tiga lima dan tujuh puluh !\n",
      "36\n",
      "37\n",
      "38\n",
      "39\n",
      "lima\n",
      "41\n",
      "tujuh\n",
      "43\n",
      "44\n",
      "lima\n",
      "46\n",
      "47\n",
      "48\n",
      "tujuh\n",
      "lima\n",
      "51\n",
      "52\n",
      "53\n",
      "54\n",
      "lima\n",
      "tujuh\n",
      "57\n",
      "58\n",
      "59\n",
      "lima\n",
      "61\n",
      "62\n",
      "tujuh\n",
      "64\n",
      "lima\n",
      "66\n",
      "67\n",
      "68\n",
      "69\n",
      "tiga lima dan tujuh puluh !\n",
      "71\n",
      "72\n",
      "73\n",
      "74\n",
      "lima\n",
      "76\n",
      "tujuh\n",
      "78\n",
      "79\n",
      "lima\n",
      "81\n",
      "82\n",
      "83\n",
      "tujuh\n",
      "lima\n",
      "86\n",
      "87\n",
      "88\n",
      "89\n",
      "lima\n",
      "tujuh\n",
      "92\n",
      "93\n",
      "94\n",
      "lima\n",
      "96\n",
      "97\n",
      "tujuh\n",
      "99\n",
      "End\n"
     ]
    }
   ],
   "source": [
    "#Jawaban soal 2\n",
    "\n",
    "# lengkapi code berikut\n",
    "\n",
    "print('expected result')\n",
    "for i in range(1,101):\n",
    "    if i == 100 :\n",
    "        print('End')\n",
    "    elif i == 35 or i == 70:\n",
    "        print('tiga lima dan tujuh puluh !')\n",
    "    elif i%5 == 0:\n",
    "        print('lima')\n",
    "    elif i%7 == 0:\n",
    "        print('tujuh')\n",
    "    else:\n",
    "        print(i)"
   ]
  },
  {
   "cell_type": "markdown",
   "metadata": {
    "id": "GhXaY7EUopCE"
   },
   "source": [
    "soal 3 \n",
    "\n",
    "Lengkapilah code untuk menampilkan hasil dari list sesuai dengan expected result yang diharapkan! "
   ]
  },
  {
   "cell_type": "code",
   "execution_count": 3,
   "metadata": {
    "id": "W9WCc5n6DEcL"
   },
   "outputs": [
    {
     "name": "stdout",
     "output_type": "stream",
     "text": [
      "Here is the list in alphabetical order:\n",
      "Aaron\n",
      "Bernice\n",
      "Cody\n",
      "\n",
      "Here is the list in reverse alphabetical order:\n",
      "Cody\n",
      "Bernice\n",
      "Aaron\n",
      "\n",
      "Here is the list in its original order:\n",
      "Bernice\n",
      "Aaron\n",
      "Cody\n"
     ]
    }
   ],
   "source": [
    "#Jawaban soal 3\n",
    "\n",
    "# name list\n",
    "name_list = [\"Bernice\", \"Aaron\", \"Cody\"]\n",
    "\n",
    "# alphabetical order\n",
    "print('Here is the list in alphabetical order:')\n",
    "for i in sorted(name_list):\n",
    "    print(i)\n",
    "\n",
    "# reverse alphabetical order\n",
    "print('\\nHere is the list in reverse alphabetical order:')\n",
    "for j in sorted(name_list, reverse=True):\n",
    "    print(j)\n",
    "\n",
    "# original order\n",
    "print('\\nHere is the list in its original order:')\n",
    "for k in name_list:\n",
    "    print(k)"
   ]
  },
  {
   "cell_type": "markdown",
   "metadata": {
    "id": "GPRufUdDDMdx"
   },
   "source": [
    "Expected Result\n",
    "\n",
    "\n",
    "![list.PNG](data:image/png;base64,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)"
   ]
  },
  {
   "cell_type": "markdown",
   "metadata": {
    "id": "l84UGLDxrJgy"
   },
   "source": [
    "\n",
    "soal 4\n",
    "\n",
    "Program Kuota SKS, yaitu program yang dapat menentukan kuota SKS yang\n",
    "diperoleh berdasarkan nilai IPK. Jika IPK besar dari 3.00 kuota SKS 24, jika IPK 2.50 sampai 2.99 kuota SKS 21, jika IPK 2.00 sampai 2.49 kuota SKS 18, jika IPK di bawah 2.00 kuota SKS 15."
   ]
  },
  {
   "cell_type": "code",
   "execution_count": 4,
   "metadata": {
    "id": "H1Kvs0hoETWY"
   },
   "outputs": [
    {
     "name": "stdout",
     "output_type": "stream",
     "text": [
      "Masukan IPK kamu!\n",
      "\n",
      "IPK kamu adalah: 3\n",
      "\n",
      "Kamu memperoleh:\n",
      "24 SKS\n"
     ]
    }
   ],
   "source": [
    "## Jawaban soal 4\n",
    "print('Masukan IPK kamu!\\n')\n",
    "\n",
    "while True:\n",
    "    try:\n",
    "        IPK = float(input('IPK kamu adalah: '))\n",
    "        break\n",
    "    except ValueError as ve:\n",
    "        print('Nilai IPK tidak valid')\n",
    "\n",
    "print('\\nKamu memperoleh:')\n",
    "    \n",
    "def hitung_ipk(IPK):\n",
    "    if IPK >= 3.00:\n",
    "            print('24 SKS')\n",
    "    elif IPK >= 2.50 and IPK < 3.00:\n",
    "            print('21 SKS')\n",
    "    elif IPK >= 2.00 and IPK < 2.50:\n",
    "            print('18 SKS')\n",
    "    elif IPK >= 0 and IPK < 2.00:\n",
    "            print('15 SKS')\n",
    "    else:\n",
    "        print('Nilai IPK tidak valid')\n",
    "            \n",
    "hitung_ipk(IPK)"
   ]
  },
  {
   "cell_type": "markdown",
   "metadata": {
    "id": "3bg2k_3aENxU"
   },
   "source": [
    "Soal 5 \n",
    "\n",
    "Kerjakan dengan benar soal dictionary berikut. \n",
    "\n"
   ]
  },
  {
   "cell_type": "code",
   "execution_count": 5,
   "metadata": {
    "colab": {
     "base_uri": "https://localhost:8080/"
    },
    "id": "gTx6rfzqEUd7",
    "outputId": "ea7a1da2-f1da-4df2-c210-b12fbfef0983"
   },
   "outputs": [
    {
     "name": "stdout",
     "output_type": "stream",
     "text": [
      "{'barand': 'ford', 'model': 'mustang', 'year': 1964}\n"
     ]
    }
   ],
   "source": [
    "thisdict = {\n",
    "    'barand' : 'ford',\n",
    "    'model'  : 'mustang',\n",
    "    'year'   : 1964\n",
    "}\n",
    "\n",
    "print(thisdict)"
   ]
  },
  {
   "cell_type": "markdown",
   "metadata": {
    "id": "0PwScoktEs-4"
   },
   "source": [
    "Dari hasil ouput brand yang ditampilkan adalah ford. tugas anda lakukan perubahan pada brand menjadi \"honda\" dengan menggunakan fungsi ubah atributnya. tidak mengubah nilai secara langsung pada dictionary awal "
   ]
  },
  {
   "cell_type": "code",
   "execution_count": 6,
   "metadata": {
    "id": "oZ7RzA3SFVCF"
   },
   "outputs": [],
   "source": [
    "# Contoh\n",
    "\n",
    "thisdict = {\n",
    "    'barand' : 'honda', # tidak mengubah dengan cara hanya mengganti nilai ini\n",
    "    'model'  : 'mustang',\n",
    "    'year'   : 1964\n",
    "}"
   ]
  },
  {
   "cell_type": "code",
   "execution_count": 7,
   "metadata": {},
   "outputs": [
    {
     "name": "stdout",
     "output_type": "stream",
     "text": [
      "{'barand': 'honda', 'model': 'mustang', 'year': 1964}\n"
     ]
    }
   ],
   "source": [
    "#Jawaban soal 5\n",
    "\n",
    "thisdict = {\n",
    "    'barand' : 'ford',\n",
    "    'model'  : 'mustang',\n",
    "    'year'   : 1964\n",
    "}\n",
    "thisdict['barand'] = 'honda'\n",
    "print(thisdict)"
   ]
  },
  {
   "cell_type": "code",
   "execution_count": 14,
   "metadata": {},
   "outputs": [
    {
     "name": "stdout",
     "output_type": "stream",
     "text": [
      "Masukan IPK kamu!7\n"
     ]
    }
   ],
   "source": [
    "def hitung_ipk(IPK):\n",
    "    if IPK >= 3.00 and IPK <= 4.00:\n",
    "            print('24 SKS')\n",
    "    elif IPK >= 2.50 and IPK < 3.00:\n",
    "            print('21 SKS')\n",
    "    elif IPK >= 2.00 and IPK < 2.50:\n",
    "            print('18 SKS')\n",
    "    elif IPK >= 0 and IPK < 2.00:\n",
    "            print('15 SKS')\n",
    "    else:\n",
    "        print('Nilai IPK tidak valid')\n",
    "def input_ipk():\n",
    "    while True:\n",
    "        try:\n",
    "            IPK = float(input('Masukan IPK kamu! '))\n",
    "            break\n",
    "        except ValueError as ve:\n",
    "            print('Nilai IPK tidak valid')\n",
    "    return IPK\n",
    "\n",
    "\n",
    "while (input_ipk() in range(0,5)):\n",
    "    hitung_ipk(IPK)\n",
    "    break\n",
    "#     try:\n",
    "#         print('a')\n",
    "# #     hitung_ipk(IPK)"
   ]
  }
 ],
 "metadata": {
  "colab": {
   "collapsed_sections": [],
   "name": "Tugas day3.ipynb",
   "provenance": []
  },
  "kernelspec": {
   "display_name": "Python 3",
   "language": "python",
   "name": "python3"
  },
  "language_info": {
   "codemirror_mode": {
    "name": "ipython",
    "version": 3
   },
   "file_extension": ".py",
   "mimetype": "text/x-python",
   "name": "python",
   "nbconvert_exporter": "python",
   "pygments_lexer": "ipython3",
   "version": "3.7.6"
  }
 },
 "nbformat": 4,
 "nbformat_minor": 1
}
