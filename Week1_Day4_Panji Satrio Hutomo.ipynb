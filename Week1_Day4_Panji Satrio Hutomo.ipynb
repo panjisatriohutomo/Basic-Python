{
 "cells": [
  {
   "cell_type": "markdown",
   "metadata": {},
   "source": [
    "Buatlah sebuah program untuk menentukan bilangan genap dan bilangan ganjil"
   ]
  },
  {
   "cell_type": "code",
   "execution_count": 1,
   "metadata": {},
   "outputs": [
    {
     "name": "stdout",
     "output_type": "stream",
     "text": [
      "Bilangan yang anda masukan adalah: -2.3\n",
      "Masukan nilai yang tepat\n",
      "Bilangan yang anda masukan adalah: 2/4\n",
      "Masukan nilai yang tepat\n",
      "Bilangan yang anda masukan adalah: 3\n",
      "Bilangan 3 adalah bilangan ganjil\n"
     ]
    }
   ],
   "source": [
    "def bilangan():\n",
    "    while True:\n",
    "        try:\n",
    "            bilangan = int(input('Bilangan yang anda masukan adalah: '))\n",
    "            break\n",
    "        except ValueError as ve:\n",
    "            print('Masukan nilai yang tepat')\n",
    "    return bilangan\n",
    "\n",
    "def ganjil_genap(bilangan):\n",
    "    if bilangan%2 != 0:\n",
    "        print('Bilangan {} adalah bilangan ganjil'.format(bilangan))\n",
    "    else:\n",
    "        print('Bilangan {} adalah bilangan genap'.format(bilangan))\n",
    "                \n",
    "bilangan = bilangan()\n",
    "ganjil_genap(bilangan)"
   ]
  },
  {
   "cell_type": "markdown",
   "metadata": {},
   "source": [
    "Buatlah sebuah sebuah program dengan sebuah fungsi yang dapat mengkonversikan angka bulan menjadi nama bulan."
   ]
  },
  {
   "cell_type": "code",
   "execution_count": 2,
   "metadata": {},
   "outputs": [
    {
     "name": "stdout",
     "output_type": "stream",
     "text": [
      "Bilangan yang anda masukan adalah: 14\n",
      "Masukan angka bulan yang tepat!!!\n",
      "Nilai yang anda masukan adalah: -1\n",
      "Masukan angka bulan yang tepat!!!\n",
      "Nilai yang anda masukan adalah: 0\n",
      "Masukan angka bulan yang tepat!!!\n",
      "Nilai yang anda masukan adalah: 2.2\n",
      "Masukan nilai yang tepat\n",
      "Masukan angka bulan yang tepat!!!\n",
      "Nilai yang anda masukan adalah: 2\n",
      "Bilangan 2 adalah bulan Februari\n"
     ]
    }
   ],
   "source": [
    "def bilangan():\n",
    "    while True:\n",
    "        try:\n",
    "            bilangan = int(input('Bilangan yang anda masukan adalah: '))\n",
    "            break\n",
    "        except ValueError as ve:\n",
    "            print('Masukan nilai yang tepat')\n",
    "    return bilangan\n",
    "\n",
    "def num_to_month(bilangan):\n",
    "    bulan=[\"Januari\",\"Februari\",\"Maret\",\"April\",\"Mei\",\"Juni\",\"Juli\",\"Agustus\",\"September\",\"Oktober\",\"Nopember\",\"Desember\"]\n",
    "    \n",
    "    while (bilangan > 12 or bilangan < 1):\n",
    "        print('Masukan angka bulan yang tepat!!!')\n",
    "        try:\n",
    "            bilangan = int(input('Nilai yang anda masukan adalah: '))\n",
    "        except ValueError as ve:\n",
    "            print('Masukan nilai yang tepat')\n",
    "    print('Bilangan %i adalah bulan {}'.format(bulan[bilangan-1]) % bilangan)\n",
    "\n",
    "bilangan = bilangan()\n",
    "num_to_month(bilangan)"
   ]
  },
  {
   "cell_type": "markdown",
   "metadata": {},
   "source": [
    "Buatlah sebuah program utama yang digunakan untuk memutar 3 buah bilangan. contoh : A = 2, B =1, C=3 di tukar menjadi A = 3, B = 2, C =1"
   ]
  },
  {
   "cell_type": "code",
   "execution_count": 3,
   "metadata": {},
   "outputs": [
    {
     "name": "stdout",
     "output_type": "stream",
     "text": [
      "{'A': 3, 'B': 2, 'C': 1}\n"
     ]
    }
   ],
   "source": [
    "thisdict = {\n",
    "    'A' : 2,\n",
    "    'B' : 1,\n",
    "    'C' : 3}\n",
    "\n",
    "def roll_value():\n",
    "    while (thisdict['B'] < thisdict['A'] < thisdict['C']):\n",
    "        thisdict['A'], thisdict['B'], thisdict['C'] = thisdict['C'], thisdict['A'], thisdict['B']\n",
    "    return print(thisdict)\n",
    "roll_value()"
   ]
  }
 ],
 "metadata": {
  "kernelspec": {
   "display_name": "Python 3",
   "language": "python",
   "name": "python3"
  },
  "language_info": {
   "codemirror_mode": {
    "name": "ipython",
    "version": 3
   },
   "file_extension": ".py",
   "mimetype": "text/x-python",
   "name": "python",
   "nbconvert_exporter": "python",
   "pygments_lexer": "ipython3",
   "version": "3.7.6"
  }
 },
 "nbformat": 4,
 "nbformat_minor": 4
}
